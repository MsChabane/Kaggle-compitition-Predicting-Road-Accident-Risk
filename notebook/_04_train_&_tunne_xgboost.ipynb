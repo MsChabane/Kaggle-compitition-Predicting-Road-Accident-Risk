{
 "cells": [
  {
   "cell_type": "code",
   "execution_count": null,
   "id": "e6ca4756",
   "metadata": {},
   "outputs": [],
   "source": [
    "import pandas as pd\n",
    "import numpy as np \n",
    "import matplotlib.pyplot as plt \n",
    "import seaborn as sns\n",
    "from pathlib import Path "
   ]
  },
  {
   "cell_type": "code",
   "execution_count": null,
   "id": "952ae4e4",
   "metadata": {},
   "outputs": [],
   "source": [
    "PROCESSED_DATA=Path(\"../data/processed/cleaned_train.csv\").resolve()"
   ]
  },
  {
   "cell_type": "code",
   "execution_count": null,
   "id": "6e5c9ea5",
   "metadata": {},
   "outputs": [],
   "source": [
    "df=pd.read_csv(PROCESSED_DATA)"
   ]
  },
  {
   "cell_type": "code",
   "execution_count": null,
   "id": "392ec8e1",
   "metadata": {},
   "outputs": [],
   "source": [
    "features= df.columns[:-1].tolist()\n",
    "num_cols = df[features].select_dtypes(include=np.number).columns.to_list()\n",
    "cat_cols = df[features].select_dtypes(exclude=np.number).columns.to_list()"
   ]
  },
  {
   "cell_type": "code",
   "execution_count": null,
   "id": "6167daa3",
   "metadata": {},
   "outputs": [],
   "source": [
    "from sklearn.preprocessing import OneHotEncoder,StandardScaler\n",
    "from sklearn.model_selection import cross_val_score \n",
    "from sklearn.compose import ColumnTransformer\n",
    "from sklearn.pipeline import Pipeline\n",
    "from xgboost import XGBRegressor\n",
    "from sklearn.metrics import root_mean_squared_error"
   ]
  },
  {
   "cell_type": "code",
   "execution_count": null,
   "id": "e1196a13",
   "metadata": {},
   "outputs": [],
   "source": [
    "processor = ColumnTransformer([\n",
    "    (\"categorical\",OneHotEncoder(handle_unknown=\"ignore\",sparse_output=False),cat_cols),\n",
    "    (\"numerical\",StandardScaler(with_mean=False),num_cols)\n",
    "    \n",
    "])"
   ]
  },
  {
   "cell_type": "code",
   "execution_count": null,
   "id": "7ed3ca05",
   "metadata": {},
   "outputs": [],
   "source": [
    "pipeline=Pipeline([\n",
    "    ('processor',processor),\n",
    "    ('predictor',XGBRegressor())\n",
    "])"
   ]
  },
  {
   "cell_type": "code",
   "execution_count": null,
   "id": "6a3cdfe6",
   "metadata": {},
   "outputs": [],
   "source": [
    "X,y= df[features],df[df.columns[-1]]"
   ]
  },
  {
   "cell_type": "code",
   "execution_count": null,
   "id": "9e579340",
   "metadata": {},
   "outputs": [],
   "source": [
    "scores =cross_val_score(pipeline,X,y,cv=4,scoring='neg_root_mean_squared_error',n_jobs=3)\n",
    "scores"
   ]
  },
  {
   "cell_type": "code",
   "execution_count": null,
   "id": "32293e87",
   "metadata": {},
   "outputs": [],
   "source": [
    "pipeline.fit(X,y)"
   ]
  },
  {
   "cell_type": "code",
   "execution_count": null,
   "id": "b8cf4675",
   "metadata": {},
   "outputs": [],
   "source": [
    "root_mean_squared_error(y,pipeline.predict(X))"
   ]
  },
  {
   "cell_type": "code",
   "execution_count": null,
   "id": "db324de1",
   "metadata": {},
   "outputs": [],
   "source": [
    "from sklearn.model_selection import train_test_split\n",
    "import mlflow\n",
    "import mlflow.sklearn as mlsk"
   ]
  },
  {
   "cell_type": "code",
   "execution_count": null,
   "id": "1091e55e",
   "metadata": {},
   "outputs": [],
   "source": []
  },
  {
   "cell_type": "code",
   "execution_count": null,
   "id": "e4dc114a",
   "metadata": {},
   "outputs": [],
   "source": [
    "params={\n",
    "   \"base_score\": 0.4,\n",
    "    \"objective\": \"reg:tweedie\",\n",
    "    \"colsample_bylevel\": 0.9,\n",
    "    \"colsample_bytree\": 0.9,\n",
    "    \"early_stopping_rounds\": 50,\n",
    "    \"eval_metric\": [\n",
    "               \"rmse\",\n",
    "               \"rmsle\"\n",
    "    ],\n",
    "    \"gamma\": 0.005,\n",
    "    \"learning_rate\": 0.05,\n",
    "    \"max_depth\": 8,\n",
    "    \"min_child_weight\": 0.6,\n",
    "    \"n_estimators\": 5000,\n",
    "    \"n_jobs\": -1,\n",
    "    \"random_state\": 0,\n",
    "    \"reg_alpha\": 0.005,\n",
    "    \"reg_lambda\": 0.005,\n",
    "    \"subsample\": 0.9}"
   ]
  },
  {
   "cell_type": "code",
   "execution_count": null,
   "id": "96a20844",
   "metadata": {},
   "outputs": [],
   "source": [
    "TRACKING_PATH=Path(\"../mlruns\").resolve()\n",
    "TRACKING_PATH.mkdir(exist_ok=True)"
   ]
  },
  {
   "cell_type": "code",
   "execution_count": null,
   "id": "a6b314c6",
   "metadata": {},
   "outputs": [],
   "source": [
    "mlflow.set_tracking_uri(f\"file://{TRACKING_PATH}\")"
   ]
  },
  {
   "cell_type": "code",
   "execution_count": null,
   "id": "bf558124",
   "metadata": {},
   "outputs": [],
   "source": [
    "mlflow.set_experiment(experiment_name=\"XGBRegressor\")\n"
   ]
  },
  {
   "cell_type": "code",
   "execution_count": null,
   "id": "805703b6",
   "metadata": {},
   "outputs": [],
   "source": []
  },
  {
   "cell_type": "code",
   "execution_count": null,
   "id": "f487e6ee",
   "metadata": {},
   "outputs": [],
   "source": [
    "X_train,X_val,y_train,y_val=train_test_split(X,y,test_size=0.2,random_state=0)"
   ]
  },
  {
   "cell_type": "code",
   "execution_count": null,
   "id": "caa5d254",
   "metadata": {},
   "outputs": [],
   "source": [
    "space_output=False\n",
    "with_mean=False\n",
    "with_std=True\n",
    "params={\n",
    "   \"base_score\": 0.4,\n",
    "    \"objective\": \"reg:tweedie\",\n",
    "    \"colsample_bylevel\": 0.9,\n",
    "    \"colsample_bytree\": 0.9,\n",
    "    \"early_stopping_rounds\": 50,\n",
    "    \"eval_metric\": [\n",
    "               \"rmse\",\n",
    "               \"rmsle\"\n",
    "    ],\n",
    "    \"gamma\": 0.005,\n",
    "    \"learning_rate\": 0.05,\n",
    "    \"max_depth\": 8,\n",
    "    \"min_child_weight\": 0.6,\n",
    "    \"n_estimators\": 5000,\n",
    "    \"n_jobs\": -1,\n",
    "    \"random_state\": 0,\n",
    "    \"reg_alpha\": 0.005,\n",
    "    \"reg_lambda\": 0.005,\n",
    "    \"subsample\": 0.9}\n",
    "with mlflow.start_run(run_name=\"xgb_rg\"):\n",
    "    processor = ColumnTransformer([\n",
    "    (\"categorical\",OneHotEncoder(handle_unknown=\"ignore\",sparse_output=space_output),cat_cols),\n",
    "    (\"numerical\",StandardScaler(with_mean=with_mean,with_std=with_std),num_cols)\n",
    "    \n",
    "    ])\n",
    "    pipeline=Pipeline([\n",
    "    ('processor',processor),\n",
    "    ('predictor',XGBRegressor(**params))\n",
    "])\n",
    "    pipeline.fit(X_train,y_train,predictor__eval_set=[(\n",
    "        processor.transform(X_val),y_val\n",
    "    )])\n",
    "    mlflow.log_metric(\"rmse\",pipeline.named_steps['predictor'].best_score)\n",
    "    mlflow.log_metric(\"best_n_estimator\",pipeline.named_steps['predictor'].best_iteration)\n",
    "\n",
    "    feature_names = pipeline.named_steps['processor'].get_feature_names_out()\n",
    "    importances = pipeline.named_steps['predictor'].feature_importances_\n",
    "    fi_df = pd.DataFrame({\n",
    "        \"feature\": feature_names,\n",
    "        \"importance\": importances\n",
    "    }).sort_values(\"importance\", ascending=False)\n",
    "    csv_path='features_importance.csv'\n",
    "    fi_df.to_csv(csv_path)\n",
    "    mlflow.log_artifact(csv_path)\n",
    "    \n",
    "    fig=plt.figure(figsize=(10,6))\n",
    "    fi_df.plot(kind='barh', x='feature', y='importance', legend=False)\n",
    "    plt.gca().invert_yaxis()\n",
    "    plt.tight_layout()\n",
    "    plt.title(\" Feature Importances\")\n",
    "    fig.savefig(\"feature_importances.png\")\n",
    "    mlflow.log_artifact(\"feature_importances.png\")\n",
    "    \n",
    "\n",
    "    "
   ]
  },
  {
   "cell_type": "code",
   "execution_count": null,
   "id": "b43a5790",
   "metadata": {},
   "outputs": [],
   "source": []
  }
 ],
 "metadata": {
  "kernelspec": {
   "display_name": ".env",
   "language": "python",
   "name": "python3"
  },
  "language_info": {
   "codemirror_mode": {
    "name": "ipython",
    "version": 3
   },
   "file_extension": ".py",
   "mimetype": "text/x-python",
   "name": "python",
   "nbconvert_exporter": "python",
   "pygments_lexer": "ipython3",
   "version": "3.12.1"
  }
 },
 "nbformat": 4,
 "nbformat_minor": 5
}
